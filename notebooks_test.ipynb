{
  "metadata": {
    "language_info": {
      "codemirror_mode": {
        "name": "python",
        "version": 3
      },
      "file_extension": ".py",
      "mimetype": "text/x-python",
      "name": "python",
      "nbconvert_exporter": "python",
      "pygments_lexer": "ipython3",
      "version": "3.8"
    },
    "kernelspec": {
      "name": "python",
      "display_name": "Python (Pyodide)",
      "language": "python"
    }
  },
  "nbformat_minor": 4,
  "nbformat": 4,
  "cells": [
    {
      "cell_type": "code",
      "source": "import pandas as pd",
      "metadata": {
        "tags": [],
        "trusted": true
      },
      "execution_count": 1,
      "outputs": []
    },
    {
      "cell_type": "code",
      "source": "group_1 = [5874658, 12345, 52148, 2564789, 1234567, 254761, 325418, 9856321]\ngroup_2 = [0, 35270, 0, 1234569]",
      "metadata": {
        "trusted": true
      },
      "execution_count": 47,
      "outputs": []
    },
    {
      "cell_type": "markdown",
      "source": "**Функция для подсчета количества покупателей в группе, если нумерация id сплошная и начинается с нуля**",
      "metadata": {}
    },
    {
      "cell_type": "code",
      "source": "def sum_id (row):\n    n_customers = 0\n    n_customers += len(row)\n    return n_customers\n\nprint (sum_id(group_2))",
      "metadata": {
        "trusted": true
      },
      "execution_count": 53,
      "outputs": [
        {
          "name": "stdout",
          "text": "4\n",
          "output_type": "stream"
        }
      ]
    },
    {
      "cell_type": "markdown",
      "source": "**Функция для подсчета количества покупателей в группе, если ID начинается с произвольного числа**",
      "metadata": {}
    },
    {
      "cell_type": "code",
      "source": "def sum_id_2 (row):\n    n_first_id = 2564789\n    n_customers = 10\n    index = row.index(n_first_id)\n    n_customers += len(row[index:])\n    return n_customers\n\nprint (sum_id_2(group_1))",
      "metadata": {
        "trusted": true
      },
      "execution_count": 61,
      "outputs": [
        {
          "name": "stdout",
          "text": "15\n",
          "output_type": "stream"
        }
      ]
    }
  ]
}